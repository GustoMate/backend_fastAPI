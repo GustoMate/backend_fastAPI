{
 "cells": [
  {
   "cell_type": "code",
   "execution_count": 2,
   "metadata": {},
   "outputs": [
    {
     "name": "stdout",
     "output_type": "stream",
     "text": [
      "      메뉴 이름             방법 분류 국가 분류 테마 분류 난이도 분류    칼로리     조회수  분량  \\\n",
      "0  견과류 영양솥밥  ['밥', '죽', '스프']    한식  메인요리     쉬움  311.0   28441   4   \n",
      "1        굴밥  ['밥', '죽', '스프']    한식  메인요리  매우 쉬움  320.0  145639   2   \n",
      "2     김치볶음밥  ['밥', '죽', '스프']    한식  메인요리  매우 쉬움  560.0  337639   2   \n",
      "3      꽃상추쌈  ['밥', '죽', '스프']    한식  메인요리  매우 쉬움  352.0  103833   2   \n",
      "4       녹두죽  ['밥', '죽', '스프']    한식  메인요리  매우 쉬움  280.0   66164   2   \n",
      "\n",
      "                                              주재료 이름  \\\n",
      "0  ['백미 1과3/4컵', '은행 12개', '밤 8개', '대추 4개', '잣 1큰술']   \n",
      "1                    ['굴 300g', '쌀 200g', '보리쌀 80g']   \n",
      "2                        ['김치(잘게썬것) 1/3포기', '밥 2공기']   \n",
      "3                                 ['상추 4장', '밥 1그릇']   \n",
      "4                                  ['녹두 1컵', '쌀 2컵']   \n",
      "\n",
      "                                              부재료 이름  \\\n",
      "0                                       ['물 1과3/4컵']   \n",
      "1  ['어묵(찐것) 50g', '표고버섯 3장', '당근 50g', '완두콩(통조림) ...   \n",
      "2  ['감자 1/4개', '양파 1/2개', '햄 60g', '식용유 약간', '계란 ...   \n",
      "3                        ['다진쇠고기 100g', '다진양파 1/2개']   \n",
      "4                                          ['물 14컵']   \n",
      "\n",
      "                                                  양념  \\\n",
      "0                                                NaN   \n",
      "1                                        ['소금 1작은술']   \n",
      "2                               ['소금 약간', '후춧가루 약간']   \n",
      "3  ['간장 1큰술', '설탕 1/2큰술', '다진파 약간', '다진마늘 약간', '깨...   \n",
      "4                                 ['소금 약간', '설탕 약간']   \n",
      "\n",
      "                                                 레시피  조리시간  spiciness  \n",
      "0  ['1. 쌀을 씻어 30분 정도 물에 불려둔다.', '2. 은행은 볶아 껍질을 벗긴...    60          0  \n",
      "1  ['1. 쌀과 보리쌀을 깨끗이 씻어 물에 30분 동안 담가둔다.', '2. 굴은 소...    30          0  \n",
      "2  ['1. 김치는 1cm 크기로 썰고 햄, 양파, 감자도 1cm 정도의 크기로 잘게 ...    20          4  \n",
      "3  ['1. 쇠고기, 양파는 다져서 준비한다.(양파는 다진 후 물기를 제거한다)', '...    30          1  \n",
      "4  ['1. 녹두는 깨끗이 씻어 일어 건진 다음 물을 붓고 푹 삶아 체에 걸러 놓는다....    60          0  \n"
     ]
    }
   ],
   "source": [
    "import pandas as pd\n",
    "from sqlalchemy import create_engine, String, Integer, Text, types\n",
    "\n",
    "# CSV 파일 경로\n",
    "file_path = 'final_recipe.csv'\n",
    "\n",
    "data = pd.read_csv(file_path)\n",
    "df = pd.DataFrame(data)\n",
    "\n",
    "print(df.head())\n"
   ]
  },
  {
   "cell_type": "code",
   "execution_count": 4,
   "metadata": {},
   "outputs": [
    {
     "ename": "NameError",
     "evalue": "name 'new_df' is not defined",
     "output_type": "error",
     "traceback": [
      "\u001b[1;31m---------------------------------------------------------------------------\u001b[0m",
      "\u001b[1;31mNameError\u001b[0m                                 Traceback (most recent call last)",
      "Cell \u001b[1;32mIn[4], line 8\u001b[0m\n\u001b[0;32m      5\u001b[0m engine \u001b[38;5;241m=\u001b[39m create_engine(settings\u001b[38;5;241m.\u001b[39mDB_URL)\n\u001b[0;32m      7\u001b[0m \u001b[38;5;66;03m# DataFrame 데이터를 MySQL 테이블에 삽입\u001b[39;00m\n\u001b[1;32m----> 8\u001b[0m \u001b[43mnew_df\u001b[49m\u001b[38;5;241m.\u001b[39mto_sql(\u001b[38;5;124m'\u001b[39m\u001b[38;5;124mrecipes\u001b[39m\u001b[38;5;124m'\u001b[39m, con\u001b[38;5;241m=\u001b[39mengine, if_exists\u001b[38;5;241m=\u001b[39m\u001b[38;5;124m'\u001b[39m\u001b[38;5;124mappend\u001b[39m\u001b[38;5;124m'\u001b[39m, index\u001b[38;5;241m=\u001b[39m\u001b[38;5;28;01mFalse\u001b[39;00m, dtype\u001b[38;5;241m=\u001b[39m{\n\u001b[0;32m      9\u001b[0m     \u001b[38;5;124m'\u001b[39m\u001b[38;5;124mrecipe_name\u001b[39m\u001b[38;5;124m'\u001b[39m: types\u001b[38;5;241m.\u001b[39mVARCHAR(\u001b[38;5;241m100\u001b[39m),\n\u001b[0;32m     10\u001b[0m     \u001b[38;5;124m'\u001b[39m\u001b[38;5;124mimage\u001b[39m\u001b[38;5;124m'\u001b[39m: String(length\u001b[38;5;241m=\u001b[39m\u001b[38;5;241m100\u001b[39m),\n\u001b[0;32m     11\u001b[0m     \u001b[38;5;124m'\u001b[39m\u001b[38;5;124mmethod_classification\u001b[39m\u001b[38;5;124m'\u001b[39m: String(length\u001b[38;5;241m=\u001b[39m\u001b[38;5;241m100\u001b[39m),\n\u001b[0;32m     12\u001b[0m     \u001b[38;5;124m'\u001b[39m\u001b[38;5;124mcountry_classification\u001b[39m\u001b[38;5;124m'\u001b[39m: String(length\u001b[38;5;241m=\u001b[39m\u001b[38;5;241m100\u001b[39m),\n\u001b[0;32m     13\u001b[0m     \u001b[38;5;124m'\u001b[39m\u001b[38;5;124mtheme_classification\u001b[39m\u001b[38;5;124m'\u001b[39m: String(length\u001b[38;5;241m=\u001b[39m\u001b[38;5;241m100\u001b[39m),\n\u001b[0;32m     14\u001b[0m     \u001b[38;5;124m'\u001b[39m\u001b[38;5;124mdifficulty_classification\u001b[39m\u001b[38;5;124m'\u001b[39m: String(length\u001b[38;5;241m=\u001b[39m\u001b[38;5;241m100\u001b[39m),\n\u001b[0;32m     15\u001b[0m     \u001b[38;5;124m'\u001b[39m\u001b[38;5;124mcalorie\u001b[39m\u001b[38;5;124m'\u001b[39m: Integer,\n\u001b[0;32m     16\u001b[0m     \u001b[38;5;124m'\u001b[39m\u001b[38;5;124mview\u001b[39m\u001b[38;5;124m'\u001b[39m: Integer,\n\u001b[0;32m     17\u001b[0m     \u001b[38;5;124m'\u001b[39m\u001b[38;5;124mquantity\u001b[39m\u001b[38;5;124m'\u001b[39m: Integer,\n\u001b[0;32m     18\u001b[0m     \u001b[38;5;124m'\u001b[39m\u001b[38;5;124mmain_ingredients\u001b[39m\u001b[38;5;124m'\u001b[39m: Text,\n\u001b[0;32m     19\u001b[0m     \u001b[38;5;124m'\u001b[39m\u001b[38;5;124msub_ingredients\u001b[39m\u001b[38;5;124m'\u001b[39m: Text,\n\u001b[0;32m     20\u001b[0m     \u001b[38;5;124m'\u001b[39m\u001b[38;5;124mseasonings\u001b[39m\u001b[38;5;124m'\u001b[39m: Text,\n\u001b[0;32m     21\u001b[0m     \u001b[38;5;124m'\u001b[39m\u001b[38;5;124mrecipe\u001b[39m\u001b[38;5;124m'\u001b[39m: Text,\n\u001b[0;32m     22\u001b[0m     \u001b[38;5;124m'\u001b[39m\u001b[38;5;124mcooking_time\u001b[39m\u001b[38;5;124m'\u001b[39m: Integer,\n\u001b[0;32m     23\u001b[0m     \u001b[38;5;124m'\u001b[39m\u001b[38;5;124mspiciness\u001b[39m\u001b[38;5;124m'\u001b[39m: Integer\n\u001b[0;32m     24\u001b[0m })\n",
      "\u001b[1;31mNameError\u001b[0m: name 'new_df' is not defined"
     ]
    }
   ],
   "source": [
    "\n",
    "# MySQL 연결 설정\n",
    "from config import settings\n",
    "\n",
    "\n",
    "engine = create_engine(settings.DB_URL)\n",
    "\n",
    "# DataFrame 데이터를 MySQL 테이블에 삽입\n",
    "new_df.to_sql('recipes', con=engine, if_exists='append', index=False, dtype={\n",
    "    'recipe_name': types.VARCHAR(100),\n",
    "    'image': String(length=100),\n",
    "    'method_classification': String(length=100),\n",
    "    'country_classification': String(length=100),\n",
    "    'theme_classification': String(length=100),\n",
    "    'difficulty_classification': String(length=100),\n",
    "    'calorie': Integer,\n",
    "    'view': Integer,\n",
    "    'quantity': Integer,\n",
    "    'main_ingredients': Text,\n",
    "    'sub_ingredients': Text,\n",
    "    'seasonings': Text,\n",
    "    'recipe': Text,\n",
    "    'cooking_time': Integer,\n",
    "    'spiciness': Integer\n",
    "})"
   ]
  },
  {
   "cell_type": "code",
   "execution_count": null,
   "metadata": {},
   "outputs": [],
   "source": [
    "\n",
    "-- recipes 테이블 생성\n",
    "CREATE TABLE `recipes` (\n",
    "    `recipe_id` int(11) NOT NULL AUTO_INCREMENT,\n",
    "    `recipe_name` varchar(100) DEFAULT NULL,\n",
    "    `image` varchar(100) DEFAULT NULL,\n",
    "    `method_classification` varchar(100) DEFAULT NULL,\n",
    "    `country_classification` varchar(100) DEFAULT NULL,\n",
    "    `theme_classification` varchar(100) DEFAULT NULL,\n",
    "    `difficulty_classification` varchar(100) DEFAULT NULL,\n",
    "    `calorie` INT(11) DEFAULT NULL,\n",
    "    `view` INT(11) DEFAULT NULL,\n",
    "    `quantity` INT(11) DEFAULT NULL,\n",
    "    `main_ingredients` TEXT DEFAULT NULL,\n",
    "    `sub_ingredients` TEXT DEFAULT NULL,\n",
    "    `seasonings` TEXT DEFAULT NULL,\n",
    "    `recipe` TEXT DEFAULT NULL,\n",
    "    `cooking_time` INT DEFAULT NULL,\n",
    "    `spiciness` INT(11) DEFAULT NULL,\n",
    "    PRIMARY KEY (`recipe_id`)\n",
    ") ENGINE=InnoDB AUTO_INCREMENT=1 DEFAULT CHARSET=utf8mb4;\n"
   ]
  },
  {
   "cell_type": "code",
   "execution_count": null,
   "metadata": {},
   "outputs": [],
   "source": []
  },
  {
   "cell_type": "code",
   "execution_count": null,
   "metadata": {},
   "outputs": [],
   "source": []
  },
  {
   "cell_type": "code",
   "execution_count": 6,
   "metadata": {},
   "outputs": [
    {
     "data": {
      "text/plain": [
       "1572"
      ]
     },
     "execution_count": 6,
     "metadata": {},
     "output_type": "execute_result"
    }
   ],
   "source": [
    "import pandas as pd\n",
    "from sqlalchemy import create_engine, String, Integer, Text, types\n",
    "\n",
    "# CSV 파일 경로\n",
    "file_path = 'final_recipe.csv'\n",
    "\n",
    "# CSV 파일 읽기\n",
    "df = pd.read_csv(file_path)\n",
    "\n",
    "# 새로운 DataFrame을 테이블 구조에 맞게 변환\n",
    "new_df = pd.DataFrame()\n",
    "new_df['recipe_name'] = df['메뉴 이름'].astype(str)\n",
    "new_df['image'] = None  # 이미지 데이터가 없으므로 NULL로 설정\n",
    "new_df['method_classification'] = df['방법 분류'].astype(str)\n",
    "new_df['country_classification'] = df['국가 분류'].astype(str)\n",
    "new_df['theme_classification'] = df['테마 분류'].astype(str)\n",
    "new_df['difficulty_classification'] = df['난이도 분류'].astype(str)\n",
    "new_df['calorie'] = df['칼로리'].astype(int)\n",
    "new_df['view'] = df['조회수'].astype(int)\n",
    "new_df['quantity'] = df['분량'].astype(int)\n",
    "new_df['main_ingredients'] = df['주재료 이름'].astype(str)\n",
    "new_df['sub_ingredients'] = df['부재료 이름'].astype(str)\n",
    "new_df['seasonings'] = df['양념'].astype(str)\n",
    "new_df['recipe'] = df['레시피'].astype(str)\n",
    "new_df['cooking_time'] = df['조리시간'].astype(int)\n",
    "new_df['spiciness'] = df['spiciness'].astype(int)\n",
    "\n",
    "# MySQL 연결 설정\n",
    "from config import settings\n",
    "\n",
    "engine = create_engine(settings.DB_URL)\n",
    "\n",
    "# DataFrame 데이터를 MySQL 테이블에 삽입\n",
    "new_df.to_sql('recipes', con=engine, if_exists='append', index=False, dtype={\n",
    "    'recipe_name': Text,\n",
    "    'image': String(length=100),\n",
    "    'method_classification': String(length=100),\n",
    "    'country_classification': String(length=100),\n",
    "    'theme_classification': String(length=100),\n",
    "    'difficulty_classification': String(length=100),\n",
    "    'calorie': Integer,\n",
    "    'view': Integer,\n",
    "    'quantity': Integer,\n",
    "    'main_ingredients': Text,\n",
    "    'sub_ingredients': Text,\n",
    "    'seasonings': Text,\n",
    "    'recipe': Text,\n",
    "    'cooking_time': Integer,\n",
    "    'spiciness': Integer\n",
    "})"
   ]
  },
  {
   "cell_type": "code",
   "execution_count": null,
   "metadata": {},
   "outputs": [],
   "source": []
  }
 ],
 "metadata": {
  "kernelspec": {
   "display_name": "tensorflow",
   "language": "python",
   "name": "python3"
  },
  "language_info": {
   "codemirror_mode": {
    "name": "ipython",
    "version": 3
   },
   "file_extension": ".py",
   "mimetype": "text/x-python",
   "name": "python",
   "nbconvert_exporter": "python",
   "pygments_lexer": "ipython3",
   "version": "3.10.2"
  }
 },
 "nbformat": 4,
 "nbformat_minor": 2
}
